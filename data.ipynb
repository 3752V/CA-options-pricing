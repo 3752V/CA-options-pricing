{
 "cells": [
  {
   "cell_type": "code",
   "execution_count": null,
   "metadata": {},
   "outputs": [],
   "source": [
    "%pip install openbb[all]\n",
    "%pip install pyarrow"
   ]
  },
  {
   "cell_type": "code",
   "execution_count": 1,
   "metadata": {},
   "outputs": [],
   "source": [
    "from datetime import datetime, timedelta\n",
    "\n",
    "from openbb import obb\n",
    "import math\n",
    "import pandas as pd\n",
    "import requests\n",
    "from bs4 import BeautifulSoup\n",
    "import numpy as np\n",
    "\n",
    "\n",
    "obb.user.preferences.output_type = \"dataframe\""
   ]
  },
  {
   "cell_type": "code",
   "execution_count": 2,
   "metadata": {},
   "outputs": [
    {
     "name": "stdout",
     "output_type": "stream",
     "text": [
      "['ARE', 'AFN', 'AEM', 'AIM', 'AC', 'AGI', 'AD.UN', 'ASTL', 'AQN', 'ATD', 'AP.UN', 'ALA', 'AIF', 'AYA', 'ARX', 'ATZ', 'AX.UN', 'ACO.X', 'ATRL', 'ATS', 'ACB', 'ACQ', 'BTO', 'BDGI', 'BLDP', 'BMO', 'BNS', 'ABX', 'BHC', 'BTE', 'BCE', 'BIR', 'BITF', 'BB', 'BEI.UN', 'BBD.B', 'BLX', 'BAM', 'BN', 'BIP.UN', 'BEPC', 'BEP.UN', 'DOO', 'CAE', 'CCO', 'CF', 'GOOS', 'CAR.UN', 'CM', 'CNR', 'CNQ', 'CP', 'CTC.A', 'CU', 'CFP', 'WEED', 'WEED1', 'CPX', 'CS', 'CJ', 'CJT', 'CAS', 'CCL.B', 'CLS', 'CVE', 'CG', 'GIB.A', 'CIA', 'CSH.UN', 'CHE.UN', 'CHP.UN', 'CIX', 'CGX', 'CCA', 'CTS', 'CJR.B', 'CRR.UN', 'CRON', 'CVO', 'CWB1', 'DFY', 'DSG', 'DOL', 'DII.B', 'DIR.UN', 'D.UN', 'DPM', 'DND', 'ECN', 'ELD', 'EFN', 'EMA', 'EMP.A', 'ENB', 'EDV', 'EDR', 'EFR', 'ERF2', 'EQB', 'EQX', 'ERO', 'EXE', 'FIL1', 'FTT', 'FCR.UN', 'AG', 'FM', 'FOM', 'FTS', 'FVI', 'FNV', 'FRU', 'FEC', 'FSZ', 'GMIN', 'GLXY', 'GDXD', 'GDXD1', 'GDXU', 'WN', 'GFL', 'GEI', 'GIL', 'GLO', 'GRT.UN', 'GWO', 'HWX', 'HBM', 'HUT', 'H', 'IAG', 'IMG', 'IGM', 'ILLM', 'IMO', 'INE', 'IFC', 'IFP', 'IVN', 'KNT', 'KRR1', 'KEY', 'KXS', 'K', 'LIF', 'LB', 'LSPD', 'LNR', 'LAC', 'L', 'LUG', 'LUN', 'MAG', 'MG', 'MDI', 'MFC', 'MFI', 'MRE', 'MATR', 'MDA', 'MEG', 'MX', 'MRU', 'MTL', 'NA', 'NGT', 'NXE', 'NFI', 'NPI', 'NWH.UN', 'NG', 'NTR', 'OBE', 'OGC', 'ONEX', 'OTEX', 'OLA', 'OR', 'OVV', 'PAAS', 'POU', 'PXT', 'PKI', 'PPL', 'PET', 'PEY', 'POW', 'PSK', 'PD', 'PBH', 'PMZ.UN', 'PRMW2', 'QBR.B', 'RBA', 'REAL', 'QSR', 'RING', 'REI.UN', 'RCI.B', 'RY', 'RUS', 'SSL', 'SAP', 'SIS', 'SEA', 'SES', 'SHOP', 'SIA', 'SVM', 'SIL', 'SRU.UN', 'SOBO', 'TOY', 'SSRM', 'STN', 'STLC1', 'SJ', 'SVI', 'SU', 'SLF', 'SOY', 'SPB', 'TVE', 'TRP', 'TRP1', 'TECK.B', 'T', 'TIXT', 'TFII', 'NWC', 'TRI', 'TLRY', 'X', 'TNZ', 'TPZ', 'TXG', 'TIH', 'TD', 'TOU', 'TA', 'TCL.A', 'TSU', 'NPK', 'VRN', 'VET', 'WCN', 'WELL', 'WDO', 'WFG', 'WTE', 'WPM', 'WCP', 'WSP']\n"
     ]
    }
   ],
   "source": [
    "#Get all the underlying symbols for the options data for each equity\n",
    "# URL of the webpage\n",
    "url = \"https://www.m-x.ca/en/trading/data/options-list\"\n",
    "\n",
    "# Send a GET request to fetch the webpage content\n",
    "response = requests.get(url)\n",
    "soup = BeautifulSoup(response.text, \"html.parser\")\n",
    "\n",
    "# Find the table by its ID\n",
    "table = soup.find(\"table\", {\"id\": \"tequity\"})\n",
    "\n",
    "# Extract all underlying symbol values\n",
    "equity_option_symbols = [row.find_all(\"td\")[2].text.strip() for row in table.find_all(\"tr\")[1:]]\n",
    "\n",
    "print(equity_option_symbols)"
   ]
  },
  {
   "cell_type": "code",
   "execution_count": 3,
   "metadata": {},
   "outputs": [
    {
     "name": "stdout",
     "output_type": "stream",
     "text": [
      "['BTCQ', 'ETHQ', 'HOD', 'HND', 'HNU', 'HNU1', 'ZAG', 'ZEB', 'ZUB', 'ZBK', 'ZUT', 'ZGLD', 'ZHY', 'ZPR', 'ZLB', 'ZDM', 'ZUQ', 'ZQQ', 'ZUE', 'ZSP', 'ZIU', 'ZCN', 'BTCX.B', 'ETHX.B', 'EBIT', 'ETHR', 'TECH', 'HPR', 'HBNK', 'HMMJ', 'HXQ', 'USSX', 'HXT', 'CNDX', 'XCB', 'XDV', 'XSB', 'XBB', 'XSP', 'XIC', 'XIN', 'XIU', 'XEG', 'XFN', 'XRE', 'XGD', 'XSU', 'BTCC.B', 'ETHH.B', 'KILO.B', 'VAB', 'VSB', 'VSC', 'VFV']\n"
     ]
    }
   ],
   "source": [
    "#Get all the underlying symbols for the options data for each etf\n",
    "\n",
    "# URL of the webpage\n",
    "url = \"https://www.m-x.ca/en/trading/data/options-list\"\n",
    "\n",
    "# Send a GET request to fetch the webpage content\n",
    "response = requests.get(url)\n",
    "soup = BeautifulSoup(response.text, \"html.parser\")\n",
    "\n",
    "# Find the table by its ID\n",
    "table = soup.find(\"table\", {\"id\": \"tetf\"})\n",
    "\n",
    "# Extract all underlying symbol values\n",
    "etf_option_symbols = [row.find_all(\"td\")[2].text.strip() for row in table.find_all(\"tr\")[1:]]\n",
    "\n",
    "print(etf_option_symbols)"
   ]
  },
  {
   "cell_type": "code",
   "execution_count": 4,
   "metadata": {},
   "outputs": [
    {
     "name": "stdout",
     "output_type": "stream",
     "text": [
      "['TX60', 'TTUT', 'TXBA']\n"
     ]
    }
   ],
   "source": [
    "#Get all the underlying symbols for the options data for each index\n",
    "# URL of the webpage\n",
    "url = \"https://www.m-x.ca/en/trading/data/options-list\"\n",
    "\n",
    "# Send a GET request to fetch the webpage content\n",
    "response = requests.get(url)\n",
    "soup = BeautifulSoup(response.text, \"html.parser\")\n",
    "\n",
    "# Find the table by its ID\n",
    "table = soup.find(\"table\", {\"id\": \"tindex\"})\n",
    "\n",
    "# Extract all underlying symbol values\n",
    "index_option_symbols = [row.find_all(\"td\")[2].text.strip() for row in table.find_all(\"tr\")[1:]]\n",
    "\n",
    "print(index_option_symbols)"
   ]
  },
  {
   "cell_type": "code",
   "execution_count": 5,
   "metadata": {},
   "outputs": [
    {
     "name": "stdout",
     "output_type": "stream",
     "text": [
      "['USX']\n"
     ]
    }
   ],
   "source": [
    "#Get all the underlying symbols for the options data for each currency (USDX)\n",
    "\n",
    "# URL of the webpage\n",
    "url = \"https://www.m-x.ca/en/trading/data/options-list#equity\"\n",
    "\n",
    "# Send a GET request to fetch the webpage content\n",
    "response = requests.get(url)\n",
    "soup = BeautifulSoup(response.text, \"html.parser\")\n",
    "\n",
    "# Find the table by its ID\n",
    "table = soup.find(\"table\", {\"id\": \"tcurrency\"})\n",
    "\n",
    "# Extract all underlying symbol values\n",
    "currency_option_symbols = [row.find_all(\"td\")[1].text.strip() for row in table.find_all(\"tr\")[1:]]\n",
    "\n",
    "print(currency_option_symbols)"
   ]
  },
  {
   "cell_type": "code",
   "execution_count": 6,
   "metadata": {},
   "outputs": [
    {
     "name": "stdout",
     "output_type": "stream",
     "text": [
      "['AEM', 'AC', 'AQN', 'ATD', 'ALA', 'ARX', 'BTO', 'BMO', 'BNS', 'ABX', 'BHC', 'BTE', 'BCE', 'BIR', 'BB', 'ZEB', 'ZSP', 'BBD.B', 'BN', 'CCO', 'GOOS', 'CM', 'CNR', 'CNQ', 'WEED', 'CS', 'CJ', 'CVE', 'CIX', 'CGX', 'EMA', 'ENB', 'EDV', 'AG', 'FM', 'FTS', 'GWO', 'HBM', 'H', 'IMO', 'XIU', 'XEG', 'XRE', 'XGD', 'IVN', 'KEY', 'K', 'LSPD', 'MFC', 'MEG', 'NA', 'NXE', 'NWH.UN', 'NTR', 'OVV', 'PAAS', 'POU', 'PPL', 'PEY', 'POW', 'BTCC.B', 'ETHH.B', 'RCI.B', 'RY', 'SHOP', 'SU', 'SLF', 'TRP', 'TECK.B', 'T', 'TD', 'TOU', 'TA', 'VRN', 'VET', 'WCP']\n"
     ]
    }
   ],
   "source": [
    "#Get all the underlying symbols for the stocks with weekly options contracts\n",
    "# URL of the webpage\n",
    "url = \"https://www.m-x.ca/en/trading/data/options-list\"\n",
    "\n",
    "# Send a GET request to fetch the webpage content\n",
    "response = requests.get(url)\n",
    "soup = BeautifulSoup(response.text, \"html.parser\")\n",
    "\n",
    "# Find the table by its ID\n",
    "table = soup.find(\"table\", {\"id\": \"tweekly\"})\n",
    "\n",
    "# Extract all underlying symbol values\n",
    "weekly_option_symbols = [row.find_all(\"td\")[2].text.strip() for row in table.find_all(\"tr\")[1:]]\n",
    "\n",
    "print(weekly_option_symbols)"
   ]
  },
  {
   "cell_type": "code",
   "execution_count": 39,
   "metadata": {},
   "outputs": [
    {
     "ename": "AttributeError",
     "evalue": "type object 'datetime.datetime' has no attribute 'timedelta'",
     "output_type": "error",
     "traceback": [
      "\u001b[1;31m---------------------------------------------------------------------------\u001b[0m",
      "\u001b[1;31mAttributeError\u001b[0m                            Traceback (most recent call last)",
      "Cell \u001b[1;32mIn[39], line 3\u001b[0m\n\u001b[0;32m      1\u001b[0m \u001b[38;5;28;01mimport\u001b[39;00m\u001b[38;5;250m \u001b[39m\u001b[38;5;21;01moptionsdata\u001b[39;00m\u001b[38;5;250m \u001b[39m\u001b[38;5;28;01mas\u001b[39;00m\u001b[38;5;250m \u001b[39m\u001b[38;5;21;01mod\u001b[39;00m\n\u001b[0;32m      2\u001b[0m \u001b[38;5;28;01mfrom\u001b[39;00m\u001b[38;5;250m \u001b[39m\u001b[38;5;21;01mdatetime\u001b[39;00m\u001b[38;5;250m \u001b[39m\u001b[38;5;28;01mimport\u001b[39;00m datetime\n\u001b[1;32m----> 3\u001b[0m failed \u001b[38;5;241m=\u001b[39m \u001b[38;5;28;01mawait\u001b[39;00m od\u001b[38;5;241m.\u001b[39mfetch_options([\u001b[38;5;124m\"\u001b[39m\u001b[38;5;124mZEB\u001b[39m\u001b[38;5;124m\"\u001b[39m], datetime(\u001b[38;5;241m2024\u001b[39m, \u001b[38;5;241m1\u001b[39m, \u001b[38;5;241m1\u001b[39m)\u001b[38;5;241m.\u001b[39mdate(), datetime(\u001b[38;5;241m2025\u001b[39m, \u001b[38;5;241m2\u001b[39m, \u001b[38;5;241m18\u001b[39m)\u001b[38;5;241m.\u001b[39mdate())\n\u001b[0;32m      4\u001b[0m \u001b[38;5;28mprint\u001b[39m(failed)\n",
      "File \u001b[1;32mc:\\Users\\viraj\\OneDrive\\Desktop\\Apex Projects\\options\\optionsdata.py:41\u001b[0m, in \u001b[0;36mfetch_options\u001b[1;34m(symbols, start_date, end_date)\u001b[0m\n\u001b[0;32m     39\u001b[0m \u001b[38;5;28;01masync\u001b[39;00m \u001b[38;5;28;01mdef\u001b[39;00m\u001b[38;5;250m \u001b[39m\u001b[38;5;21mfetch_options\u001b[39m(symbols: List[\u001b[38;5;28mstr\u001b[39m], start_date: datetime\u001b[38;5;241m.\u001b[39mdate, end_date: Optional[datetime\u001b[38;5;241m.\u001b[39mdate] \u001b[38;5;241m=\u001b[39m \u001b[38;5;28;01mNone\u001b[39;00m):\n\u001b[0;32m     40\u001b[0m     obb\u001b[38;5;241m.\u001b[39muser\u001b[38;5;241m.\u001b[39mpreferences\u001b[38;5;241m.\u001b[39moutput_type \u001b[38;5;241m=\u001b[39m \u001b[38;5;124m\"\u001b[39m\u001b[38;5;124mOBBject\u001b[39m\u001b[38;5;124m\"\u001b[39m\n\u001b[1;32m---> 41\u001b[0m     date_range \u001b[38;5;241m=\u001b[39m [start_date \u001b[38;5;241m+\u001b[39m timedelta(days\u001b[38;5;241m=\u001b[39mi) \u001b[38;5;28;01mfor\u001b[39;00m i \u001b[38;5;129;01min\u001b[39;00m \u001b[38;5;28mrange\u001b[39m((end_date \u001b[38;5;241m-\u001b[39m start_date)\u001b[38;5;241m.\u001b[39mdays \u001b[38;5;241m+\u001b[39m \u001b[38;5;241m1\u001b[39m)] \u001b[38;5;28;01mif\u001b[39;00m end_date \u001b[38;5;28;01melse\u001b[39;00m [start_date]\n\u001b[0;32m     43\u001b[0m     semaphore \u001b[38;5;241m=\u001b[39m asyncio\u001b[38;5;241m.\u001b[39mSemaphore(\u001b[38;5;241m5\u001b[39m)  \u001b[38;5;66;03m# Limit concurrency to avoid overwhelming the API\u001b[39;00m\n\u001b[0;32m     44\u001b[0m     tasks \u001b[38;5;241m=\u001b[39m [fetch_options_for_symbol(symbol, date_range, semaphore) \u001b[38;5;28;01mfor\u001b[39;00m symbol \u001b[38;5;129;01min\u001b[39;00m symbols]\n",
      "File \u001b[1;32mc:\\Users\\viraj\\OneDrive\\Desktop\\Apex Projects\\options\\optionsdata.py:41\u001b[0m, in \u001b[0;36m<listcomp>\u001b[1;34m(.0)\u001b[0m\n\u001b[0;32m     39\u001b[0m \u001b[38;5;28;01masync\u001b[39;00m \u001b[38;5;28;01mdef\u001b[39;00m\u001b[38;5;250m \u001b[39m\u001b[38;5;21mfetch_options\u001b[39m(symbols: List[\u001b[38;5;28mstr\u001b[39m], start_date: datetime\u001b[38;5;241m.\u001b[39mdate, end_date: Optional[datetime\u001b[38;5;241m.\u001b[39mdate] \u001b[38;5;241m=\u001b[39m \u001b[38;5;28;01mNone\u001b[39;00m):\n\u001b[0;32m     40\u001b[0m     obb\u001b[38;5;241m.\u001b[39muser\u001b[38;5;241m.\u001b[39mpreferences\u001b[38;5;241m.\u001b[39moutput_type \u001b[38;5;241m=\u001b[39m \u001b[38;5;124m\"\u001b[39m\u001b[38;5;124mOBBject\u001b[39m\u001b[38;5;124m\"\u001b[39m\n\u001b[1;32m---> 41\u001b[0m     date_range \u001b[38;5;241m=\u001b[39m [start_date \u001b[38;5;241m+\u001b[39m timedelta(days\u001b[38;5;241m=\u001b[39mi) \u001b[38;5;28;01mfor\u001b[39;00m i \u001b[38;5;129;01min\u001b[39;00m \u001b[38;5;28mrange\u001b[39m((end_date \u001b[38;5;241m-\u001b[39m start_date)\u001b[38;5;241m.\u001b[39mdays \u001b[38;5;241m+\u001b[39m \u001b[38;5;241m1\u001b[39m)] \u001b[38;5;28;01mif\u001b[39;00m end_date \u001b[38;5;28;01melse\u001b[39;00m [start_date]\n\u001b[0;32m     43\u001b[0m     semaphore \u001b[38;5;241m=\u001b[39m asyncio\u001b[38;5;241m.\u001b[39mSemaphore(\u001b[38;5;241m5\u001b[39m)  \u001b[38;5;66;03m# Limit concurrency to avoid overwhelming the API\u001b[39;00m\n\u001b[0;32m     44\u001b[0m     tasks \u001b[38;5;241m=\u001b[39m [fetch_options_for_symbol(symbol, date_range, semaphore) \u001b[38;5;28;01mfor\u001b[39;00m symbol \u001b[38;5;129;01min\u001b[39;00m symbols]\n",
      "\u001b[1;31mAttributeError\u001b[0m: type object 'datetime.datetime' has no attribute 'timedelta'"
     ]
    }
   ],
   "source": [
    "import optionsdata as od\n",
    "from datetime import datetime\n",
    "failed = await od.fetch_options([\"ZEB\"], datetime(2024, 1, 1).date(), datetime(2025, 2, 18).date())\n",
    "print(failed)"
   ]
  }
 ],
 "metadata": {
  "kernelspec": {
   "display_name": "apexenv",
   "language": "python",
   "name": "python3"
  },
  "language_info": {
   "codemirror_mode": {
    "name": "ipython",
    "version": 3
   },
   "file_extension": ".py",
   "mimetype": "text/x-python",
   "name": "python",
   "nbconvert_exporter": "python",
   "pygments_lexer": "ipython3",
   "version": "3.11.9"
  }
 },
 "nbformat": 4,
 "nbformat_minor": 2
}
