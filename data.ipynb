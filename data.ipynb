{
 "cells": [
  {
   "cell_type": "code",
   "execution_count": null,
   "metadata": {},
   "outputs": [],
   "source": [
    "%pip install openbb[all]\n",
    "%pip install pyarrow"
   ]
  },
  {
   "cell_type": "code",
   "execution_count": 1,
   "metadata": {},
   "outputs": [],
   "source": [
    "from datetime import datetime, timedelta\n",
    "\n",
    "from openbb import obb\n",
    "import math\n",
    "import pandas as pd\n",
    "import requests\n",
    "from bs4 import BeautifulSoup\n",
    "import numpy as np\n",
    "\n",
    "\n",
    "obb.user.preferences.output_type = \"dataframe\""
   ]
  },
  {
   "cell_type": "code",
   "execution_count": 2,
   "metadata": {},
   "outputs": [
    {
     "name": "stdout",
     "output_type": "stream",
     "text": [
      "['ARE', 'AFN', 'AEM', 'AIM', 'AC', 'AGI', 'AD.UN', 'ASTL', 'AQN', 'ATD', 'AP.UN', 'ALA', 'AIF', 'AYA', 'ARX', 'ATZ', 'AX.UN', 'ACO.X', 'ATRL', 'ATS', 'ACB', 'ACQ', 'BTO', 'BDGI', 'BLDP', 'BMO', 'BNS', 'ABX', 'BHC', 'BTE', 'BCE', 'BIR', 'BITF', 'BB', 'BEI.UN', 'BBD.B', 'BLX', 'BAM', 'BN', 'BIP.UN', 'BEPC', 'BEP.UN', 'DOO', 'CAE', 'CCO', 'CF', 'GOOS', 'CAR.UN', 'CM', 'CNR', 'CNQ', 'CP', 'CTC.A', 'CU', 'CFP', 'WEED', 'WEED1', 'CPX', 'CS', 'CJ', 'CJT', 'CAS', 'CCL.B', 'CLS', 'CVE', 'CG', 'GIB.A', 'CIA', 'CSH.UN', 'CHE.UN', 'CHP.UN', 'CIX', 'CGX', 'CCA', 'CTS', 'CJR.B', 'CRR.UN', 'CRON', 'CVO', 'CWB1', 'DFY', 'DSG', 'DOL', 'DII.B', 'DIR.UN', 'D.UN', 'DPM', 'DND', 'ECN', 'ELD', 'EFN', 'EMA', 'EMP.A', 'ENB', 'EDV', 'EDR', 'EFR', 'ERF2', 'EQB', 'EQX', 'ERO', 'EXE', 'FIL1', 'FTT', 'FCR.UN', 'AG', 'FM', 'FOM', 'FTS', 'FVI', 'FNV', 'FRU', 'FEC', 'FSZ', 'GMIN', 'GLXY', 'GDXD', 'GDXD1', 'GDXU', 'WN', 'GFL', 'GEI', 'GIL', 'GLO', 'GRT.UN', 'GWO', 'HWX', 'HBM', 'HUT', 'H', 'IAG', 'IMG', 'IGM', 'ILLM', 'IMO', 'INE', 'IFC', 'IFP', 'IVN', 'KNT', 'KRR1', 'KEY', 'KXS', 'K', 'LIF', 'LB', 'LSPD', 'LNR', 'LAC', 'L', 'LUG', 'LUN', 'MAG', 'MG', 'MDI', 'MFC', 'MFI', 'MRE', 'MATR', 'MDA', 'MEG', 'MX', 'MRU', 'MTL', 'NA', 'NGT', 'NXE', 'NFI', 'NPI', 'NWH.UN', 'NG', 'NTR', 'OBE', 'OGC', 'ONEX', 'OTEX', 'OLA', 'OR', 'OVV', 'PAAS', 'POU', 'PXT', 'PKI', 'PPL', 'PET', 'PEY', 'POW', 'PSK', 'PD', 'PBH', 'PMZ.UN', 'PRMW2', 'QBR.B', 'RBA', 'REAL', 'QSR', 'RING', 'REI.UN', 'RCI.B', 'RY', 'RUS', 'SSL', 'SAP', 'SIS', 'SEA', 'SES', 'SHOP', 'SIA', 'SVM', 'SIL', 'SRU.UN', 'SOBO', 'TOY', 'SSRM', 'STN', 'STLC1', 'SJ', 'SVI', 'SU', 'SLF', 'SOY', 'SPB', 'TVE', 'TRP', 'TRP1', 'TECK.B', 'T', 'TIXT', 'TFII', 'NWC', 'TRI', 'TLRY', 'X', 'TNZ', 'TPZ', 'TXG', 'TIH', 'TD', 'TOU', 'TA', 'TCL.A', 'TSU', 'NPK', 'VRN', 'VET', 'WCN', 'WELL', 'WDO', 'WFG', 'WTE', 'WPM', 'WCP', 'WSP']\n"
     ]
    }
   ],
   "source": [
    "#Get all the underlying symbols for the options data for each equity\n",
    "# URL of the webpage\n",
    "url = \"https://www.m-x.ca/en/trading/data/options-list\"\n",
    "\n",
    "# Send a GET request to fetch the webpage content\n",
    "response = requests.get(url)\n",
    "soup = BeautifulSoup(response.text, \"html.parser\")\n",
    "\n",
    "# Find the table by its ID\n",
    "table = soup.find(\"table\", {\"id\": \"tequity\"})\n",
    "\n",
    "# Extract all underlying symbol values\n",
    "equity_option_symbols = [row.find_all(\"td\")[2].text.strip() for row in table.find_all(\"tr\")[1:]]\n",
    "\n",
    "print(equity_option_symbols)"
   ]
  },
  {
   "cell_type": "code",
   "execution_count": 3,
   "metadata": {},
   "outputs": [
    {
     "name": "stdout",
     "output_type": "stream",
     "text": [
      "['BTCQ', 'ETHQ', 'HOD', 'HND', 'HNU', 'HNU1', 'ZAG', 'ZEB', 'ZUB', 'ZBK', 'ZUT', 'ZGLD', 'ZHY', 'ZPR', 'ZLB', 'ZDM', 'ZUQ', 'ZQQ', 'ZUE', 'ZSP', 'ZIU', 'ZCN', 'BTCX.B', 'ETHX.B', 'EBIT', 'ETHR', 'TECH', 'HPR', 'HBNK', 'HMMJ', 'HXQ', 'USSX', 'HXT', 'CNDX', 'XCB', 'XDV', 'XSB', 'XBB', 'XSP', 'XIC', 'XIN', 'XIU', 'XEG', 'XFN', 'XRE', 'XGD', 'XSU', 'BTCC.B', 'ETHH.B', 'KILO.B', 'VAB', 'VSB', 'VSC', 'VFV']\n"
     ]
    }
   ],
   "source": [
    "#Get all the underlying symbols for the options data for each etf\n",
    "\n",
    "# URL of the webpage\n",
    "url = \"https://www.m-x.ca/en/trading/data/options-list\"\n",
    "\n",
    "# Send a GET request to fetch the webpage content\n",
    "response = requests.get(url)\n",
    "soup = BeautifulSoup(response.text, \"html.parser\")\n",
    "\n",
    "# Find the table by its ID\n",
    "table = soup.find(\"table\", {\"id\": \"tetf\"})\n",
    "\n",
    "# Extract all underlying symbol values\n",
    "etf_option_symbols = [row.find_all(\"td\")[2].text.strip() for row in table.find_all(\"tr\")[1:]]\n",
    "\n",
    "print(etf_option_symbols)"
   ]
  },
  {
   "cell_type": "code",
   "execution_count": 4,
   "metadata": {},
   "outputs": [
    {
     "name": "stdout",
     "output_type": "stream",
     "text": [
      "['TX60', 'TTUT', 'TXBA']\n"
     ]
    }
   ],
   "source": [
    "#Get all the underlying symbols for the options data for each index\n",
    "# URL of the webpage\n",
    "url = \"https://www.m-x.ca/en/trading/data/options-list\"\n",
    "\n",
    "# Send a GET request to fetch the webpage content\n",
    "response = requests.get(url)\n",
    "soup = BeautifulSoup(response.text, \"html.parser\")\n",
    "\n",
    "# Find the table by its ID\n",
    "table = soup.find(\"table\", {\"id\": \"tindex\"})\n",
    "\n",
    "# Extract all underlying symbol values\n",
    "index_option_symbols = [row.find_all(\"td\")[2].text.strip() for row in table.find_all(\"tr\")[1:]]\n",
    "\n",
    "print(index_option_symbols)"
   ]
  },
  {
   "cell_type": "code",
   "execution_count": 5,
   "metadata": {},
   "outputs": [
    {
     "name": "stdout",
     "output_type": "stream",
     "text": [
      "['USX']\n"
     ]
    }
   ],
   "source": [
    "#Get all the underlying symbols for the options data for each currency (USDX)\n",
    "\n",
    "# URL of the webpage\n",
    "url = \"https://www.m-x.ca/en/trading/data/options-list#equity\"\n",
    "\n",
    "# Send a GET request to fetch the webpage content\n",
    "response = requests.get(url)\n",
    "soup = BeautifulSoup(response.text, \"html.parser\")\n",
    "\n",
    "# Find the table by its ID\n",
    "table = soup.find(\"table\", {\"id\": \"tcurrency\"})\n",
    "\n",
    "# Extract all underlying symbol values\n",
    "currency_option_symbols = [row.find_all(\"td\")[1].text.strip() for row in table.find_all(\"tr\")[1:]]\n",
    "\n",
    "print(currency_option_symbols)"
   ]
  },
  {
   "cell_type": "code",
   "execution_count": 6,
   "metadata": {},
   "outputs": [
    {
     "name": "stdout",
     "output_type": "stream",
     "text": [
      "['AEM', 'AC', 'AQN', 'ATD', 'ALA', 'ARX', 'BTO', 'BMO', 'BNS', 'ABX', 'BHC', 'BTE', 'BCE', 'BIR', 'BB', 'ZEB', 'ZSP', 'BBD.B', 'BN', 'CCO', 'GOOS', 'CM', 'CNR', 'CNQ', 'WEED', 'CS', 'CJ', 'CVE', 'CIX', 'CGX', 'EMA', 'ENB', 'EDV', 'AG', 'FM', 'FTS', 'GWO', 'HBM', 'H', 'IMO', 'XIU', 'XEG', 'XRE', 'XGD', 'IVN', 'KEY', 'K', 'LSPD', 'MFC', 'MEG', 'NA', 'NXE', 'NWH.UN', 'NTR', 'OVV', 'PAAS', 'POU', 'PPL', 'PEY', 'POW', 'BTCC.B', 'ETHH.B', 'RCI.B', 'RY', 'SHOP', 'SU', 'SLF', 'TRP', 'TECK.B', 'T', 'TD', 'TOU', 'TA', 'VRN', 'VET', 'WCP']\n"
     ]
    }
   ],
   "source": [
    "#Get all the underlying symbols for the stocks with weekly options contracts\n",
    "# URL of the webpage\n",
    "url = \"https://www.m-x.ca/en/trading/data/options-list\"\n",
    "\n",
    "# Send a GET request to fetch the webpage content\n",
    "response = requests.get(url)\n",
    "soup = BeautifulSoup(response.text, \"html.parser\")\n",
    "\n",
    "# Find the table by its ID\n",
    "table = soup.find(\"table\", {\"id\": \"tweekly\"})\n",
    "\n",
    "# Extract all underlying symbol values\n",
    "weekly_option_symbols = [row.find_all(\"td\")[2].text.strip() for row in table.find_all(\"tr\")[1:]]\n",
    "\n",
    "print(weekly_option_symbols)"
   ]
  },
  {
   "cell_type": "code",
   "execution_count": 38,
   "metadata": {},
   "outputs": [
    {
     "ename": "RuntimeError",
     "evalue": "asyncio.run() cannot be called from a running event loop",
     "output_type": "error",
     "traceback": [
      "\u001b[1;31m---------------------------------------------------------------------------\u001b[0m",
      "\u001b[1;31mRuntimeError\u001b[0m                              Traceback (most recent call last)",
      "Cell \u001b[1;32mIn[38], line 5\u001b[0m\n\u001b[0;32m      3\u001b[0m start_date \u001b[38;5;241m=\u001b[39m datetime(\u001b[38;5;241m2024\u001b[39m, \u001b[38;5;241m1\u001b[39m, \u001b[38;5;241m1\u001b[39m)\n\u001b[0;32m      4\u001b[0m end_date \u001b[38;5;241m=\u001b[39m datetime(\u001b[38;5;241m2025\u001b[39m, \u001b[38;5;241m2\u001b[39m, \u001b[38;5;241m18\u001b[39m)\n\u001b[1;32m----> 5\u001b[0m result \u001b[38;5;241m=\u001b[39m \u001b[43masyncio\u001b[49m\u001b[38;5;241;43m.\u001b[39;49m\u001b[43mrun\u001b[49m\u001b[43m(\u001b[49m\u001b[43mod\u001b[49m\u001b[38;5;241;43m.\u001b[39;49m\u001b[43mfetch_options\u001b[49m\u001b[43m(\u001b[49m\u001b[43m[\u001b[49m\u001b[38;5;124;43m\"\u001b[39;49m\u001b[38;5;124;43mRY\u001b[39;49m\u001b[38;5;124;43m\"\u001b[39;49m\u001b[43m,\u001b[49m\u001b[38;5;124;43m\"\u001b[39;49m\u001b[38;5;124;43mSHOP\u001b[39;49m\u001b[38;5;124;43m\"\u001b[39;49m\u001b[43m,\u001b[49m\u001b[43m \u001b[49m\u001b[38;5;124;43m\"\u001b[39;49m\u001b[38;5;124;43mTD\u001b[39;49m\u001b[38;5;124;43m\"\u001b[39;49m\u001b[43m,\u001b[49m\u001b[43m \u001b[49m\u001b[38;5;124;43m\"\u001b[39;49m\u001b[38;5;124;43mENB\u001b[39;49m\u001b[38;5;124;43m\"\u001b[39;49m\u001b[43m,\u001b[49m\u001b[43m \u001b[49m\u001b[38;5;124;43m\"\u001b[39;49m\u001b[38;5;124;43mBN\u001b[39;49m\u001b[38;5;124;43m\"\u001b[39;49m\u001b[43m,\u001b[49m\u001b[43m \u001b[49m\u001b[38;5;124;43m\"\u001b[39;49m\u001b[38;5;124;43mBMO\u001b[39;49m\u001b[38;5;124;43m\"\u001b[39;49m\u001b[43m,\u001b[49m\u001b[43m \u001b[49m\u001b[38;5;124;43m\"\u001b[39;49m\u001b[38;5;124;43mTRI\u001b[39;49m\u001b[38;5;124;43m\"\u001b[39;49m\u001b[43m,\u001b[49m\u001b[43m \u001b[49m\u001b[38;5;124;43m\"\u001b[39;49m\u001b[38;5;124;43mBNS\u001b[39;49m\u001b[38;5;124;43m\"\u001b[39;49m\u001b[43m,\u001b[49m\u001b[43m \u001b[49m\u001b[38;5;124;43m\"\u001b[39;49m\u001b[38;5;124;43mCSU\u001b[39;49m\u001b[38;5;124;43m\"\u001b[39;49m\u001b[43m,\u001b[49m\u001b[43m \u001b[49m\u001b[38;5;124;43m\"\u001b[39;49m\u001b[38;5;124;43mCP\u001b[39;49m\u001b[38;5;124;43m\"\u001b[39;49m\u001b[43m]\u001b[49m\u001b[43m,\u001b[49m\u001b[43m \u001b[49m\u001b[43mstart_date\u001b[49m\u001b[43m,\u001b[49m\u001b[43m \u001b[49m\u001b[43mend_date\u001b[49m\u001b[43m)\u001b[49m\u001b[43m)\u001b[49m\n\u001b[0;32m      6\u001b[0m result\n",
      "File \u001b[1;32mC:\\Program Files\\WindowsApps\\PythonSoftwareFoundation.Python.3.11_3.11.2544.0_x64__qbz5n2kfra8p0\\Lib\\asyncio\\runners.py:186\u001b[0m, in \u001b[0;36mrun\u001b[1;34m(main, debug)\u001b[0m\n\u001b[0;32m    161\u001b[0m \u001b[38;5;250m\u001b[39m\u001b[38;5;124;03m\"\"\"Execute the coroutine and return the result.\u001b[39;00m\n\u001b[0;32m    162\u001b[0m \n\u001b[0;32m    163\u001b[0m \u001b[38;5;124;03mThis function runs the passed coroutine, taking care of\u001b[39;00m\n\u001b[1;32m   (...)\u001b[0m\n\u001b[0;32m    182\u001b[0m \u001b[38;5;124;03m    asyncio.run(main())\u001b[39;00m\n\u001b[0;32m    183\u001b[0m \u001b[38;5;124;03m\"\"\"\u001b[39;00m\n\u001b[0;32m    184\u001b[0m \u001b[38;5;28;01mif\u001b[39;00m events\u001b[38;5;241m.\u001b[39m_get_running_loop() \u001b[38;5;129;01mis\u001b[39;00m \u001b[38;5;129;01mnot\u001b[39;00m \u001b[38;5;28;01mNone\u001b[39;00m:\n\u001b[0;32m    185\u001b[0m     \u001b[38;5;66;03m# fail fast with short traceback\u001b[39;00m\n\u001b[1;32m--> 186\u001b[0m     \u001b[38;5;28;01mraise\u001b[39;00m \u001b[38;5;167;01mRuntimeError\u001b[39;00m(\n\u001b[0;32m    187\u001b[0m         \u001b[38;5;124m\"\u001b[39m\u001b[38;5;124masyncio.run() cannot be called from a running event loop\u001b[39m\u001b[38;5;124m\"\u001b[39m)\n\u001b[0;32m    189\u001b[0m \u001b[38;5;28;01mwith\u001b[39;00m Runner(debug\u001b[38;5;241m=\u001b[39mdebug) \u001b[38;5;28;01mas\u001b[39;00m runner:\n\u001b[0;32m    190\u001b[0m     \u001b[38;5;28;01mreturn\u001b[39;00m runner\u001b[38;5;241m.\u001b[39mrun(main)\n",
      "\u001b[1;31mRuntimeError\u001b[0m: asyncio.run() cannot be called from a running event loop"
     ]
    }
   ],
   "source": [
    "import optionsdata as od\n",
    "from datetime import datetime\n",
    "failed = await od.fetch_options([\"ZEB\"], datetime(2024, 1, 1).date(), datetime(2025, 2, 18).date())\n",
    "print(failed)"
   ]
  }
 ],
 "metadata": {
  "kernelspec": {
   "display_name": "apexenv",
   "language": "python",
   "name": "python3"
  },
  "language_info": {
   "codemirror_mode": {
    "name": "ipython",
    "version": 3
   },
   "file_extension": ".py",
   "mimetype": "text/x-python",
   "name": "python",
   "nbconvert_exporter": "python",
   "pygments_lexer": "ipython3",
   "version": "3.11.9"
  }
 },
 "nbformat": 4,
 "nbformat_minor": 2
}
