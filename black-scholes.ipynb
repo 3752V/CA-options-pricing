{
 "cells": [
  {
   "cell_type": "code",
   "execution_count": null,
   "metadata": {},
   "outputs": [],
   "source": [
    "%pip install openbb[all]"
   ]
  },
  {
   "cell_type": "code",
   "execution_count": 1,
   "metadata": {},
   "outputs": [],
   "source": [
    "from datetime import datetime, timedelta\n",
    "\n",
    "from openbb import obb\n",
    "import math\n",
    "obb.user.preferences.output_type = \"dataframe\""
   ]
  },
  {
   "cell_type": "code",
   "execution_count": null,
   "metadata": {},
   "outputs": [],
   "source": [
    "symbol = \"AQN\"  # This will not be evergreen, change the symbol based on a stock above.\n",
    "\n",
    "obb.user.preferences.output_type = \"OBBject\"  # To use the built-in options chains methods, we need to set the output type to OBBject.\n",
    "options_day = datetime.strptime(\"2025-01-03\", \"%Y-%m-%d\")\n",
    "\n",
    "options = obb.derivatives.options.chains(symbol, date=options_day, provider=\"tmx\") #Can get data from June 28 2011\n",
    "\n",
    "obb.user.preferences.output_type = \"dataframe\"\n",
    "price_df = obb.equity.price.historical(\"AQN\", start_date=options_day - timedelta(days=60), end_date=options_day, interval=\"1d\", provider=\"tmx\")\n",
    "annualized_volatility = price_df[\"change_percent\"].std() * math.sqrt(250) #250 canadian trading days"
   ]
  },
  {
   "cell_type": "code",
   "execution_count": null,
   "metadata": {},
   "outputs": [],
   "source": [
    "[opt for opt in options.results.open_interest if opt > 0]\n",
    "df = options.results.dataframe\n",
    "df = df[df[\"volume\"] > 0]\n",
    "df.head()"
   ]
  },
  {
   "cell_type": "code",
   "execution_count": null,
   "metadata": {},
   "outputs": [],
   "source": [
    "import math\n",
    "from scipy.stats import norm\n",
    "\n",
    "def black_scholes_call(S, K, T, r, sigma):\n",
    "    # S: Spot price of the asset\n",
    "    # K: Strike price\n",
    "    # T: Time to maturity (in years)\n",
    "    # r: Risk-free rate (annual)\n",
    "    # sigma: Volatility of the asset (annual)\n",
    "    \n",
    "    # Calculate d1 and d2\n",
    "    d1 = (math.log(S / K) + (r + 0.5 * sigma ** 2) * T) / (sigma * math.sqrt(T))\n",
    "    d2 = d1 - sigma * math.sqrt(T)\n",
    "    \n",
    "    # Calculate the call option price using Black-Scholes formula\n",
    "    call_price = (S * norm.cdf(d1)) - (K * math.exp(-r * T) * norm.cdf(d2))\n",
    "    return call_price\n",
    "\n",
    "# Example usage\n",
    "S = 100  # Spot price\n",
    "K = 95   # Strike price\n",
    "T = 1    # Time to maturity in years\n",
    "r = 0.05 # Risk-free rate\n",
    "sigma = 0.2  # Volatility\n",
    "\n",
    "call_price = black_scholes_call(S, K, T, r, sigma)\n",
    "print(f\"Call option price: {call_price:.2f}\")\n"
   ]
  }
 ],
 "metadata": {
  "kernelspec": {
   "display_name": "apexenv",
   "language": "python",
   "name": "python3"
  },
  "language_info": {
   "codemirror_mode": {
    "name": "ipython",
    "version": 3
   },
   "file_extension": ".py",
   "mimetype": "text/x-python",
   "name": "python",
   "nbconvert_exporter": "python",
   "pygments_lexer": "ipython3",
   "version": "3.11.9"
  }
 },
 "nbformat": 4,
 "nbformat_minor": 2
}
